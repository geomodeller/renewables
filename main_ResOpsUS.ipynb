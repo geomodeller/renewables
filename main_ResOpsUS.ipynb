{
 "cells": [
  {
   "cell_type": "code",
   "execution_count": 49,
   "metadata": {},
   "outputs": [],
   "source": [
    "import pandas as pd\n",
    "import plotly.express as px\n",
    "from script import test_stationarity\n",
    "from script import check_required_differencing\n",
    "from script import arima_model\n",
    "import plotly.graph_objs as go\n",
    "from plotly.subplots import make_subplots"
   ]
  },
  {
   "cell_type": "code",
   "execution_count": 50,
   "metadata": {},
   "outputs": [
    {
     "name": "stdout",
     "output_type": "stream",
     "text": [
      "<class 'pandas.core.frame.DataFrame'>\n",
      "RangeIndex: 678 entries, 0 to 677\n",
      "Data columns (total 9 columns):\n",
      " #   Column                 Non-Null Count  Dtype  \n",
      "---  ------                 --------------  -----  \n",
      " 0   DAM_ID                 678 non-null    int64  \n",
      " 1   DAM_NAME               678 non-null    object \n",
      " 2   STATE                  678 non-null    object \n",
      " 3   AGENCY_CODE            678 non-null    object \n",
      " 4   LONG                   678 non-null    float64\n",
      " 5   LAT                    678 non-null    float64\n",
      " 6   TIME_SERIES_START      678 non-null    object \n",
      " 7   TIME_SERIES_END        677 non-null    object \n",
      " 8   INCONSISTENCIES_NOTED  3 non-null      object \n",
      "dtypes: float64(2), int64(1), object(6)\n",
      "memory usage: 47.8+ KB\n"
     ]
    }
   ],
   "source": [
    "df_dam = pd.read_csv('./ResOpsUS/ResOpsUS/attributes/reservoir_attributes.csv')\n",
    "df_dam.info()"
   ]
  },
  {
   "cell_type": "code",
   "execution_count": 51,
   "metadata": {},
   "outputs": [
    {
     "data": {
      "text/html": [
       "<div>\n",
       "<style scoped>\n",
       "    .dataframe tbody tr th:only-of-type {\n",
       "        vertical-align: middle;\n",
       "    }\n",
       "\n",
       "    .dataframe tbody tr th {\n",
       "        vertical-align: top;\n",
       "    }\n",
       "\n",
       "    .dataframe thead th {\n",
       "        text-align: right;\n",
       "    }\n",
       "</style>\n",
       "<table border=\"1\" class=\"dataframe\">\n",
       "  <thead>\n",
       "    <tr style=\"text-align: right;\">\n",
       "      <th></th>\n",
       "      <th>DAM_ID</th>\n",
       "      <th>DAM_NAME</th>\n",
       "      <th>STATE</th>\n",
       "      <th>AGENCY_CODE</th>\n",
       "      <th>LONG</th>\n",
       "      <th>LAT</th>\n",
       "      <th>TIME_SERIES_START</th>\n",
       "      <th>TIME_SERIES_END</th>\n",
       "      <th>INCONSISTENCIES_NOTED</th>\n",
       "    </tr>\n",
       "  </thead>\n",
       "  <tbody>\n",
       "    <tr>\n",
       "      <th>244</th>\n",
       "      <td>610</td>\n",
       "      <td>Hoover</td>\n",
       "      <td>Nevada</td>\n",
       "      <td>BOR</td>\n",
       "      <td>-114.735006</td>\n",
       "      <td>36.018191</td>\n",
       "      <td>4/1/34</td>\n",
       "      <td>1/28/21</td>\n",
       "      <td>NaN</td>\n",
       "    </tr>\n",
       "  </tbody>\n",
       "</table>\n",
       "</div>"
      ],
      "text/plain": [
       "     DAM_ID DAM_NAME   STATE AGENCY_CODE        LONG        LAT  \\\n",
       "244     610   Hoover  Nevada         BOR -114.735006  36.018191   \n",
       "\n",
       "    TIME_SERIES_START TIME_SERIES_END INCONSISTENCIES_NOTED  \n",
       "244            4/1/34         1/28/21                   NaN  "
      ]
     },
     "execution_count": 51,
     "metadata": {},
     "output_type": "execute_result"
    }
   ],
   "source": [
    "df_dam[df_dam['DAM_NAME'].str.lower() == 'hoover']"
   ]
  },
  {
   "cell_type": "code",
   "execution_count": 52,
   "metadata": {},
   "outputs": [],
   "source": [
    "dam_id = df_dam[df_dam['DAM_NAME'].str.lower() == 'hoover']['DAM_ID'].values[0]"
   ]
  },
  {
   "cell_type": "code",
   "execution_count": 53,
   "metadata": {},
   "outputs": [],
   "source": [
    "df_hoover = pd.read_csv(f'./ResOpsUS/ResOpsUS/time_series_all/ResOpsUS_{dam_id}.csv')\n"
   ]
  },
  {
   "cell_type": "code",
   "execution_count": 54,
   "metadata": {},
   "outputs": [
    {
     "name": "stdout",
     "output_type": "stream",
     "text": [
      "<class 'pandas.core.frame.DataFrame'>\n",
      "RangeIndex: 31715 entries, 0 to 31714\n",
      "Data columns (total 6 columns):\n",
      " #   Column       Non-Null Count  Dtype  \n",
      "---  ------       --------------  -----  \n",
      " 0   date         31715 non-null  object \n",
      " 1   storage      30561 non-null  float64\n",
      " 2   inflow       0 non-null      float64\n",
      " 3   outflow      31715 non-null  float64\n",
      " 4   evaporation  0 non-null      float64\n",
      " 5   elevation    31407 non-null  float64\n",
      "dtypes: float64(5), object(1)\n",
      "memory usage: 1.5+ MB\n"
     ]
    }
   ],
   "source": [
    "df_hoover.info()"
   ]
  },
  {
   "cell_type": "code",
   "execution_count": 55,
   "metadata": {},
   "outputs": [],
   "source": [
    "df_hoover['date'] = pd.to_datetime(df_hoover['date'], format='%Y-%m-%d')"
   ]
  },
  {
   "cell_type": "code",
   "execution_count": 56,
   "metadata": {},
   "outputs": [],
   "source": [
    "for i in df_hoover.columns[1:]:\n",
    "    df_hoover[i] = pd.to_numeric(df_hoover[i], errors='coerce')"
   ]
  },
  {
   "cell_type": "code",
   "execution_count": null,
   "metadata": {},
   "outputs": [],
   "source": [
    "fig = px.line(df_hoover, x='date', \n",
    "              y='storage', \n",
    "              title=f'{'storage'} of Hoover dam') \n",
    "fig.update_layout(xaxis_title='Time', yaxis_title='Stage [ft]')\n",
    "fig.write_html('Storage of Hoover dam.html')"
   ]
  },
  {
   "cell_type": "code",
   "execution_count": 24,
   "metadata": {},
   "outputs": [
    {
     "data": {
      "text/html": [
       "<div>\n",
       "<style scoped>\n",
       "    .dataframe tbody tr th:only-of-type {\n",
       "        vertical-align: middle;\n",
       "    }\n",
       "\n",
       "    .dataframe tbody tr th {\n",
       "        vertical-align: top;\n",
       "    }\n",
       "\n",
       "    .dataframe thead th {\n",
       "        text-align: right;\n",
       "    }\n",
       "</style>\n",
       "<table border=\"1\" class=\"dataframe\">\n",
       "  <thead>\n",
       "    <tr style=\"text-align: right;\">\n",
       "      <th></th>\n",
       "      <th>date</th>\n",
       "      <th>storage</th>\n",
       "      <th>inflow</th>\n",
       "      <th>outflow</th>\n",
       "      <th>evaporation</th>\n",
       "      <th>elevation</th>\n",
       "    </tr>\n",
       "  </thead>\n",
       "  <tbody>\n",
       "    <tr>\n",
       "      <th>0</th>\n",
       "      <td>1934-04-01</td>\n",
       "      <td>NaN</td>\n",
       "      <td>NaN</td>\n",
       "      <td>166.503</td>\n",
       "      <td>NaN</td>\n",
       "      <td>NaN</td>\n",
       "    </tr>\n",
       "    <tr>\n",
       "      <th>1</th>\n",
       "      <td>1934-04-02</td>\n",
       "      <td>NaN</td>\n",
       "      <td>NaN</td>\n",
       "      <td>171.883</td>\n",
       "      <td>NaN</td>\n",
       "      <td>NaN</td>\n",
       "    </tr>\n",
       "    <tr>\n",
       "      <th>2</th>\n",
       "      <td>1934-04-03</td>\n",
       "      <td>NaN</td>\n",
       "      <td>NaN</td>\n",
       "      <td>165.370</td>\n",
       "      <td>NaN</td>\n",
       "      <td>NaN</td>\n",
       "    </tr>\n",
       "    <tr>\n",
       "      <th>3</th>\n",
       "      <td>1934-04-04</td>\n",
       "      <td>NaN</td>\n",
       "      <td>NaN</td>\n",
       "      <td>161.123</td>\n",
       "      <td>NaN</td>\n",
       "      <td>NaN</td>\n",
       "    </tr>\n",
       "    <tr>\n",
       "      <th>4</th>\n",
       "      <td>1934-04-05</td>\n",
       "      <td>NaN</td>\n",
       "      <td>NaN</td>\n",
       "      <td>156.875</td>\n",
       "      <td>NaN</td>\n",
       "      <td>NaN</td>\n",
       "    </tr>\n",
       "  </tbody>\n",
       "</table>\n",
       "</div>"
      ],
      "text/plain": [
       "        date  storage  inflow  outflow  evaporation  elevation\n",
       "0 1934-04-01      NaN     NaN  166.503          NaN        NaN\n",
       "1 1934-04-02      NaN     NaN  171.883          NaN        NaN\n",
       "2 1934-04-03      NaN     NaN  165.370          NaN        NaN\n",
       "3 1934-04-04      NaN     NaN  161.123          NaN        NaN\n",
       "4 1934-04-05      NaN     NaN  156.875          NaN        NaN"
      ]
     },
     "execution_count": 24,
     "metadata": {},
     "output_type": "execute_result"
    }
   ],
   "source": [
    "df_hoover.head()"
   ]
  },
  {
   "cell_type": "code",
   "execution_count": 29,
   "metadata": {},
   "outputs": [],
   "source": [
    "\n",
    "# Create subplots\n",
    "variables_of_interest = ['storage', 'outflow', 'elevation']\n",
    "n_subplots = len(variables_of_interest)\n",
    "fig = make_subplots(rows=n_subplots, \n",
    "                    cols=1, \n",
    "                    shared_xaxes=True, \n",
    "                    subplot_titles=variables_of_interest)\n",
    "\n",
    "# Add traces for each variable\n",
    "for i, var in enumerate(variables_of_interest):\n",
    "    fig.add_trace(go.Scatter(x=df_hoover['date'], y=df_hoover[var], mode='lines', name=var), row=i+1, col=1)\n",
    "\n",
    "# Update layout\n",
    "fig.update_layout(height=200 * n_subplots, title_text=\"Hoover dam in over time\", showlegend=True)\n",
    "\n",
    "# Show figure\n",
    "fig.write_html('hoover_dam_over_time.html')\n"
   ]
  },
  {
   "cell_type": "code",
   "execution_count": 33,
   "metadata": {},
   "outputs": [
    {
     "name": "stderr",
     "output_type": "stream",
     "text": [
      "C:\\Users\\DELL\\AppData\\Local\\Temp\\ipykernel_26996\\3989360626.py:1: FutureWarning:\n",
      "\n",
      "DataFrame.fillna with 'method' is deprecated and will raise in a future version. Use obj.ffill() or obj.bfill() instead.\n",
      "\n"
     ]
    }
   ],
   "source": [
    "df_hoover.fillna(method='bfill', inplace=True)"
   ]
  },
  {
   "cell_type": "code",
   "execution_count": 34,
   "metadata": {},
   "outputs": [
    {
     "name": "stderr",
     "output_type": "stream",
     "text": [
      "c:\\Users\\DELL\\Desktop\\renewables_by_artur\\renewables\\script\\test_stationarity.py:17: InterpolationWarning:\n",
      "\n",
      "The test statistic is outside of the range of p-values available in the\n",
      "look-up table. The actual p-value is smaller than the p-value returned.\n",
      "\n",
      "\n"
     ]
    },
    {
     "name": "stdout",
     "output_type": "stream",
     "text": [
      "Test: kpss\n",
      "Test Statistic: 4.0061\n",
      "p-value: 0.0100\n",
      "Critical Values:\n",
      "\t10%: 0.347\n",
      "\t5%: 0.463\n",
      "\t2.5%: 0.574\n",
      "\t1%: 0.739\n",
      "\n",
      "Test: adfuller\n",
      "Test Statistic: -3.4520\n",
      "p-value: 0.0093\n",
      "Critical Values:\n",
      "\t1%: -3.431\n",
      "\t5%: -2.862\n",
      "\t10%: -2.567\n",
      "\n"
     ]
    }
   ],
   "source": [
    "test_stationarity(df_hoover['storage'], 'kpss')\n",
    "test_stationarity(df_hoover['storage'], 'adfuller')"
   ]
  },
  {
   "cell_type": "code",
   "execution_count": 35,
   "metadata": {},
   "outputs": [
    {
     "name": "stdout",
     "output_type": "stream",
     "text": [
      "------- Differencing required for stationarity (trend)-------\n",
      "Differencing required (adf): 0\n",
      "Differencing required (kpss): 1\n",
      "Differencing required (pp): 1\n",
      "------- Differencing required for stationarity (seasonality) -------\n",
      "Differencing required for seasonality (OCSB): 0\n",
      "Differencing required for seasonality (CH): 0\n"
     ]
    }
   ],
   "source": [
    "check_required_differencing(df_hoover, 'storage')"
   ]
  },
  {
   "cell_type": "code",
   "execution_count": 36,
   "metadata": {},
   "outputs": [
    {
     "name": "stdout",
     "output_type": "stream",
     "text": [
      "Performing stepwise search to minimize aic\n",
      " ARIMA(0,1,0)(0,0,0)[0] intercept   : AIC=334725.698, Time=0.65 sec\n",
      " ARIMA(1,1,0)(0,0,0)[0] intercept   : AIC=331995.256, Time=0.68 sec\n",
      " ARIMA(0,1,1)(0,0,0)[0] intercept   : AIC=332879.511, Time=3.45 sec\n",
      " ARIMA(0,1,0)(0,0,0)[0]             : AIC=334723.702, Time=0.25 sec\n",
      " ARIMA(2,1,0)(0,0,0)[0] intercept   : AIC=330037.058, Time=1.35 sec\n",
      " ARIMA(2,1,1)(0,0,0)[0] intercept   : AIC=326380.425, Time=9.08 sec\n",
      " ARIMA(1,1,1)(0,0,0)[0] intercept   : AIC=326415.717, Time=6.68 sec\n",
      " ARIMA(2,1,2)(0,0,0)[0] intercept   : AIC=326381.693, Time=24.67 sec\n",
      " ARIMA(1,1,2)(0,0,0)[0] intercept   : AIC=326380.219, Time=7.86 sec\n",
      " ARIMA(0,1,2)(0,0,0)[0] intercept   : AIC=331539.704, Time=5.12 sec\n",
      " ARIMA(1,1,2)(0,0,0)[0]             : AIC=326378.219, Time=3.62 sec\n",
      " ARIMA(0,1,2)(0,0,0)[0]             : AIC=331537.706, Time=2.82 sec\n",
      " ARIMA(1,1,1)(0,0,0)[0]             : AIC=326413.717, Time=3.36 sec\n",
      " ARIMA(2,1,2)(0,0,0)[0]             : AIC=326379.170, Time=14.51 sec\n",
      " ARIMA(0,1,1)(0,0,0)[0]             : AIC=332877.514, Time=1.69 sec\n",
      " ARIMA(2,1,1)(0,0,0)[0]             : AIC=326378.425, Time=4.01 sec\n",
      "\n",
      "Best model:  ARIMA(1,1,2)(0,0,0)[0]          \n",
      "Total fit time: 89.838 seconds\n"
     ]
    }
   ],
   "source": [
    "model = arima_model(df_hoover['storage'])"
   ]
  },
  {
   "cell_type": "code",
   "execution_count": 44,
   "metadata": {},
   "outputs": [],
   "source": [
    "predictions = model.predict(n_periods=100)"
   ]
  },
  {
   "cell_type": "code",
   "execution_count": 45,
   "metadata": {},
   "outputs": [
    {
     "data": {
      "image/png": "[encoded data removed]",
      "text/plain": [
       "<Figure size 640x480 with 1 Axes>"
      ]
     },
     "metadata": {},
     "output_type": "display_data"
    }
   ],
   "source": [
    "import matplotlib.pyplot as plt\n",
    "import numpy as np\n",
    "plt.plot(df_hoover['storage'][-100:])\n",
    "plt.plot(np.arange(len(df_hoover['storage']), len(df_hoover['storage'])+len(predictions)),predictions.values,'-')\n",
    "plt.grid('on')"
   ]
  },
  {
   "cell_type": "code",
   "execution_count": 57,
   "metadata": {},
   "outputs": [],
   "source": [
    "start = pd.to_datetime('2014-05-01')\n",
    "end = pd.to_datetime('2020-03-01')"
   ]
  },
  {
   "cell_type": "code",
   "execution_count": 61,
   "metadata": {},
   "outputs": [],
   "source": [
    "df_hoover = df_hoover[df_hoover['date'].between(start, end)].reset_index(drop=True).loc[:,['date','storage', 'outflow', 'elevation']]"
   ]
  },
  {
   "cell_type": "code",
   "execution_count": 62,
   "metadata": {},
   "outputs": [],
   "source": [
    "df_hoover.to_csv('hoover_dam_between_May2014_March2020.csv', index=False)"
   ]
  }
 ],
 "metadata": {
  "kernelspec": {
   "display_name": "base",
   "language": "python",
   "name": "python3"
  },
  "language_info": {
   "codemirror_mode": {
    "name": "ipython",
    "version": 3
   },
   "file_extension": ".py",
   "mimetype": "text/x-python",
   "name": "python",
   "nbconvert_exporter": "python",
   "pygments_lexer": "ipython3",
   "version": "3.12.7"
  }
 },
 "nbformat": 4,
 "nbformat_minor": 2
}
